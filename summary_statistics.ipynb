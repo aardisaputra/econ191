{
 "cells": [
  {
   "cell_type": "code",
   "execution_count": 4,
   "metadata": {},
   "outputs": [],
   "source": [
    "import pandas as pd\n",
    "import seaborn as sns\n",
    "import matplotlib.pyplot as plt\n",
    "\n",
    "sc_employment = pd.read_csv(\n",
    "    \"./data/processed_employment/Santa_Clara_County,_California.csv\"\n",
    ")\n",
    "sc_real_estate = pd.read_csv(\"./data/processed_zillow/Santa_Clara_County.csv\")\n",
    "\n",
    "sm_employment = pd.read_csv(\n",
    "    \"./data/processed_employment/San_Mateo_County,_California.csv\"\n",
    ")\n",
    "sm_real_estate = pd.read_csv(\"./data/processed_zillow/San_Mateo_County.csv\")\n",
    "\n",
    "fresno_employment = pd.read_csv(\"./data/processed_employment/Fresno_County,_California.csv\")\n",
    "fresno_real_estate = pd.read_csv(\"./data/processed_zillow/Fresno_County.csv\")\n",
    "\n",
    "travis_employment = pd.read_csv(\n",
    "    \"./data/processed_employment/Travis_County,_Texas.csv\"\n",
    ")\n",
    "travis_real_estate = pd.read_csv(\"./data/processed_zillow/Travis_County.csv\")"
   ]
  },
  {
   "cell_type": "code",
   "execution_count": 5,
   "metadata": {},
   "outputs": [
    {
     "name": "stdout",
     "output_type": "stream",
     "text": [
      "Summary Statistics for Santa Clara:\n",
      "       Employment        Price\n",
      "count      159.00       165.00\n",
      "mean    81,171.50 1,007,202.58\n",
      "std     19,662.18   339,803.25\n",
      "min     46,346.00   479,770.00\n",
      "25%     63,531.50   714,188.00\n",
      "50%     86,366.00   936,261.00\n",
      "75%     99,554.50 1,266,337.00\n",
      "max    106,014.00 1,601,205.00\n",
      "\\begin{tabular}{lrr}\n",
      "\\toprule\n",
      " & Employment & Price \\\\\n",
      "\\midrule\n",
      "count & 159.00 & 165.00 \\\\\n",
      "mean & 81171.50 & 1007202.58 \\\\\n",
      "std & 19662.18 & 339803.25 \\\\\n",
      "min & 46346.00 & 479770.00 \\\\\n",
      "25% & 63531.50 & 714188.00 \\\\\n",
      "50% & 86366.00 & 936261.00 \\\\\n",
      "75% & 99554.50 & 1266337.00 \\\\\n",
      "max & 106014.00 & 1601205.00 \\\\\n",
      "\\bottomrule\n",
      "\\end{tabular}\n",
      "\n"
     ]
    }
   ],
   "source": [
    "pd.set_option(\"display.float_format\", \"{:,.2f}\".format)\n",
    "sc = pd.concat([sc_employment, sc_real_estate], axis=0)\n",
    "print(\"Summary Statistics for Santa Clara:\")\n",
    "print(sc.describe())\n",
    "\n",
    "latex_table = sc.describe().to_latex(index=True, float_format=\"%.2f\")\n",
    "\n",
    "# Save the LaTeX table to a file\n",
    "with open(\"summary_statistics.tex\", \"w\") as f:\n",
    "    f.write(latex_table)\n",
    "\n",
    "# Print LaTeX table\n",
    "print(latex_table)"
   ]
  },
  {
   "cell_type": "code",
   "execution_count": 6,
   "metadata": {},
   "outputs": [
    {
     "name": "stdout",
     "output_type": "stream",
     "text": [
      "Summary Statistics for San Mateo:\n",
      "       Employment        Price\n",
      "count      159.00       165.00\n",
      "mean    37,538.50 1,141,353.93\n",
      "std     13,902.36   334,254.48\n",
      "min     17,062.00   575,510.00\n",
      "25%     25,587.50   846,105.00\n",
      "50%     35,766.00 1,206,743.00\n",
      "75%     50,399.50 1,434,189.00\n",
      "max     63,590.00 1,677,950.00\n",
      "\\begin{tabular}{lrr}\n",
      "\\toprule\n",
      " & Employment & Price \\\\\n",
      "\\midrule\n",
      "count & 159.00 & 165.00 \\\\\n",
      "mean & 37538.50 & 1141353.93 \\\\\n",
      "std & 13902.36 & 334254.48 \\\\\n",
      "min & 17062.00 & 575510.00 \\\\\n",
      "25% & 25587.50 & 846105.00 \\\\\n",
      "50% & 35766.00 & 1206743.00 \\\\\n",
      "75% & 50399.50 & 1434189.00 \\\\\n",
      "max & 63590.00 & 1677950.00 \\\\\n",
      "\\bottomrule\n",
      "\\end{tabular}\n",
      "\n"
     ]
    }
   ],
   "source": [
    "pd.set_option(\"display.float_format\", \"{:,.2f}\".format)\n",
    "sm = pd.concat([sm_employment, sm_real_estate], axis=0)\n",
    "print(\"Summary Statistics for San Mateo:\")\n",
    "print(sm.describe())\n",
    "\n",
    "latex_table = sm.describe().to_latex(index=True, float_format=\"%.2f\")\n",
    "\n",
    "# Save the LaTeX table to a file\n",
    "with open(\"summary_statistics.tex\", \"w\") as f:\n",
    "    f.write(latex_table)\n",
    "\n",
    "# Print LaTeX table\n",
    "print(latex_table)"
   ]
  },
  {
   "cell_type": "code",
   "execution_count": 7,
   "metadata": {},
   "outputs": [
    {
     "ename": "NameError",
     "evalue": "name 'sac_employment' is not defined",
     "output_type": "error",
     "traceback": [
      "\u001b[0;31m---------------------------------------------------------------------------\u001b[0m",
      "\u001b[0;31mNameError\u001b[0m                                 Traceback (most recent call last)",
      "Cell \u001b[0;32mIn[7], line 2\u001b[0m\n\u001b[1;32m      1\u001b[0m pd\u001b[38;5;241m.\u001b[39mset_option(\u001b[38;5;124m\"\u001b[39m\u001b[38;5;124mdisplay.float_format\u001b[39m\u001b[38;5;124m\"\u001b[39m, \u001b[38;5;124m\"\u001b[39m\u001b[38;5;132;01m{:,.2f}\u001b[39;00m\u001b[38;5;124m\"\u001b[39m\u001b[38;5;241m.\u001b[39mformat)\n\u001b[0;32m----> 2\u001b[0m \u001b[43msac_employment\u001b[49m\u001b[38;5;241m.\u001b[39mreplace(\u001b[38;5;241m0\u001b[39m, pd\u001b[38;5;241m.\u001b[39mNA, inplace\u001b[38;5;241m=\u001b[39m\u001b[38;5;28;01mTrue\u001b[39;00m)\n\u001b[1;32m      4\u001b[0m \u001b[38;5;66;03m# Fill NaN values with the mean of each column\u001b[39;00m\n\u001b[1;32m      5\u001b[0m sac_employment\u001b[38;5;241m.\u001b[39mfillna(sac_employment[\u001b[38;5;124m\"\u001b[39m\u001b[38;5;124mEmployment\u001b[39m\u001b[38;5;124m\"\u001b[39m]\u001b[38;5;241m.\u001b[39mmean(), inplace\u001b[38;5;241m=\u001b[39m\u001b[38;5;28;01mTrue\u001b[39;00m)\n",
      "\u001b[0;31mNameError\u001b[0m: name 'sac_employment' is not defined"
     ]
    }
   ],
   "source": [
    "pd.set_option(\"display.float_format\", \"{:,.2f}\".format)\n",
    "sac_employment.replace(0, pd.NA, inplace=True)\n",
    "\n",
    "# Fill NaN values with the mean of each column\n",
    "sac_employment.fillna(sac_employment[\"Employment\"].mean(), inplace=True)\n",
    "sac = pd.concat([sac_employment, sac_real_estate], axis=0)\n",
    "\n",
    "\n",
    "print(\"Summary Statistics for Sacramento:\")\n",
    "print(sac.describe())\n",
    "latex_table = sac.describe().to_latex(index=True, float_format=\"%.2f\")\n",
    "\n",
    "# Save the LaTeX table to a file\n",
    "with open(\"summary_statistics.tex\", \"w\") as f:\n",
    "    f.write(latex_table)\n",
    "\n",
    "# Print LaTeX table\n",
    "print(latex_table)"
   ]
  },
  {
   "cell_type": "code",
   "execution_count": 17,
   "metadata": {},
   "outputs": [
    {
     "name": "stdout",
     "output_type": "stream",
     "text": [
      "Summary Statistics for Fresno:\n",
      "       Employment      Price\n",
      "count      159.00     165.00\n",
      "mean     3,439.75 252,683.59\n",
      "std        379.09  81,946.61\n",
      "min      2,457.00 138,997.00\n",
      "25%      3,189.50 189,172.00\n",
      "50%      3,501.00 239,554.00\n",
      "75%      3,756.50 316,048.00\n",
      "max      3,982.00 395,622.00\n",
      "\\begin{tabular}{lrr}\n",
      "\\toprule\n",
      " & Employment & Price \\\\\n",
      "\\midrule\n",
      "count & 159.00 & 165.00 \\\\\n",
      "mean & 3439.75 & 252683.59 \\\\\n",
      "std & 379.09 & 81946.61 \\\\\n",
      "min & 2457.00 & 138997.00 \\\\\n",
      "25% & 3189.50 & 189172.00 \\\\\n",
      "50% & 3501.00 & 239554.00 \\\\\n",
      "75% & 3756.50 & 316048.00 \\\\\n",
      "max & 3982.00 & 395622.00 \\\\\n",
      "\\bottomrule\n",
      "\\end{tabular}\n",
      "\n"
     ]
    },
    {
     "name": "stderr",
     "output_type": "stream",
     "text": [
      "/var/folders/4r/8l8ztg457hq357p0kylhwhfw0000gn/T/ipykernel_53888/520887257.py:5: FutureWarning: Downcasting object dtype arrays on .fillna, .ffill, .bfill is deprecated and will change in a future version. Call result.infer_objects(copy=False) instead. To opt-in to the future behavior, set `pd.set_option('future.no_silent_downcasting', True)`\n",
      "  fresno_employment.fillna(fresno_employment[\"Employment\"].mean(), inplace=True)\n"
     ]
    }
   ],
   "source": [
    "pd.set_option(\"display.float_format\", \"{:,.2f}\".format)\n",
    "fresno_employment.replace(0, pd.NA, inplace=True)\n",
    "\n",
    "# Fill NaN values with the mean of each column\n",
    "fresno_employment.fillna(fresno_employment[\"Employment\"].mean(), inplace=True)\n",
    "fresno = pd.concat([fresno_employment, fresno_real_estate], axis=0)\n",
    "\n",
    "print(\"Summary Statistics for Fresno:\")\n",
    "print(fresno.describe())\n",
    "latex_table = fresno.describe().to_latex(index=True, float_format=\"%.2f\")\n",
    "\n",
    "# Save the LaTeX table to a file\n",
    "with open(\"summary_statistics.tex\", \"w\") as f:\n",
    "    f.write(latex_table)\n",
    "\n",
    "# Print LaTeX table\n",
    "print(latex_table)"
   ]
  },
  {
   "cell_type": "code",
   "execution_count": 8,
   "metadata": {},
   "outputs": [
    {
     "name": "stdout",
     "output_type": "stream",
     "text": [
      "Summary Statistics for Travis:\n",
      "       Employment      Price\n",
      "count      159.00     165.00\n",
      "mean    28,521.73 356,832.67\n",
      "std      7,742.25 120,882.37\n",
      "min     17,835.00 204,009.00\n",
      "25%     21,947.50 261,244.00\n",
      "50%     26,254.00 330,307.00\n",
      "75%     34,247.50 459,559.00\n",
      "max     42,585.00 617,385.00\n",
      "\\begin{tabular}{lrr}\n",
      "\\toprule\n",
      " & Employment & Price \\\\\n",
      "\\midrule\n",
      "count & 159.00 & 165.00 \\\\\n",
      "mean & 28521.73 & 356832.67 \\\\\n",
      "std & 7742.25 & 120882.37 \\\\\n",
      "min & 17835.00 & 204009.00 \\\\\n",
      "25% & 21947.50 & 261244.00 \\\\\n",
      "50% & 26254.00 & 330307.00 \\\\\n",
      "75% & 34247.50 & 459559.00 \\\\\n",
      "max & 42585.00 & 617385.00 \\\\\n",
      "\\bottomrule\n",
      "\\end{tabular}\n",
      "\n"
     ]
    }
   ],
   "source": [
    "pd.set_option(\"display.float_format\", \"{:,.2f}\".format)\n",
    "travis_employment.replace(0, pd.NA, inplace=True)\n",
    "\n",
    "# Fill NaN values with the mean of each column\n",
    "travis_employment.fillna(travis_employment[\"Employment\"].mean(), inplace=True)\n",
    "travis = pd.concat([travis_employment, travis_real_estate], axis=0)\n",
    "\n",
    "print(\"Summary Statistics for Travis:\")\n",
    "print(travis.describe())\n",
    "latex_table = travis.describe().to_latex(index=True, float_format=\"%.2f\")\n",
    "\n",
    "# Save the LaTeX table to a file\n",
    "with open(\"summary_statistics.tex\", \"w\") as f:\n",
    "    f.write(latex_table)\n",
    "\n",
    "# Print LaTeX table\n",
    "print(latex_table)"
   ]
  }
 ],
 "metadata": {
  "kernelspec": {
   "display_name": "Python 3",
   "language": "python",
   "name": "python3"
  },
  "language_info": {
   "codemirror_mode": {
    "name": "ipython",
    "version": 3
   },
   "file_extension": ".py",
   "mimetype": "text/x-python",
   "name": "python",
   "nbconvert_exporter": "python",
   "pygments_lexer": "ipython3",
   "version": "3.11.7"
  }
 },
 "nbformat": 4,
 "nbformat_minor": 2
}
