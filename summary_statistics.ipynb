{
 "cells": [
  {
   "cell_type": "code",
   "execution_count": null,
   "metadata": {},
   "outputs": [
    {
     "name": "stderr",
     "output_type": "stream",
     "text": [
      "/var/folders/4r/8l8ztg457hq357p0kylhwhfw0000gn/T/ipykernel_53888/3849631215.py:1: DeprecationWarning: \n",
      "Pyarrow will become a required dependency of pandas in the next major release of pandas (pandas 3.0),\n",
      "(to allow more performant data types, such as the Arrow string type, and better interoperability with other libraries)\n",
      "but was not found to be installed on your system.\n",
      "If this would cause problems for you,\n",
      "please provide us feedback at https://github.com/pandas-dev/pandas/issues/54466\n",
      "        \n",
      "  import pandas as pd\n"
     ]
    }
   ],
   "source": [
    "import pandas as pd\n",
    "import seaborn as sns\n",
    "import matplotlib.pyplot as plt\n",
    "\n",
    "sc_employment = pd.read_csv(\n",
    "    \"./data/processed_employment/Santa_Clara_County,_California.csv\"\n",
    ")\n",
    "sc_real_estate = pd.read_csv(\"./data/processed_zillow/Santa_Clara_County.csv\")\n",
    "\n",
    "sm_employment = pd.read_csv(\n",
    "    \"./data/processed_employment/San_Mateo_County,_California.csv\"\n",
    ")\n",
    "sm_real_estate = pd.read_csv(\"./data/processed_zillow/San_Mateo_County.csv\")\n",
    "\n",
    "fresno_employment = pd.read_csv(\"./data/processed_employment/Fresno_County,_California.csv\")\n",
    "fresno_real_estate = pd.read_csv(\"./data/processed_zillow/Fresno_County.csv\")\n",
    "\n",
    "travis_employment = pd.read_csv(\n",
    "    \"./data/processed_employment/Travis_County,_Texas.csv\"\n",
    ")\n",
    "travis_real_estate = pd.read_csv(\"./data/processed_zillow/Travis_County.csv\")"
   ]
  },
  {
   "cell_type": "code",
   "execution_count": 10,
   "metadata": {},
   "outputs": [
    {
     "name": "stdout",
     "output_type": "stream",
     "text": [
      "Summary Statistics for Santa Clara:\n",
      "       Employment        Price\n",
      "count      159.00       165.00\n",
      "mean    81,171.50 1,007,202.58\n",
      "std     19,662.18   339,803.25\n",
      "min     46,346.00   479,770.00\n",
      "25%     63,531.50   714,188.00\n",
      "50%     86,366.00   936,261.00\n",
      "75%     99,554.50 1,266,337.00\n",
      "max    106,014.00 1,601,205.00\n",
      "\\begin{tabular}{lrr}\n",
      "\\toprule\n",
      " & Employment & Price \\\\\n",
      "\\midrule\n",
      "count & 159.00 & 165.00 \\\\\n",
      "mean & 81171.50 & 1007202.58 \\\\\n",
      "std & 19662.18 & 339803.25 \\\\\n",
      "min & 46346.00 & 479770.00 \\\\\n",
      "25% & 63531.50 & 714188.00 \\\\\n",
      "50% & 86366.00 & 936261.00 \\\\\n",
      "75% & 99554.50 & 1266337.00 \\\\\n",
      "max & 106014.00 & 1601205.00 \\\\\n",
      "\\bottomrule\n",
      "\\end{tabular}\n",
      "\n"
     ]
    }
   ],
   "source": [
    "pd.set_option(\"display.float_format\", \"{:,.2f}\".format)\n",
    "sc = pd.concat([sc_employment, sc_real_estate], axis=0)\n",
    "print(\"Summary Statistics for Santa Clara:\")\n",
    "print(sc.describe())\n",
    "\n",
    "latex_table = sc.describe().to_latex(index=True, float_format=\"%.2f\")\n",
    "\n",
    "# Save the LaTeX table to a file\n",
    "with open(\"summary_statistics.tex\", \"w\") as f:\n",
    "    f.write(latex_table)\n",
    "\n",
    "# Print LaTeX table\n",
    "print(latex_table)"
   ]
  },
  {
   "cell_type": "code",
   "execution_count": 11,
   "metadata": {},
   "outputs": [
    {
     "name": "stdout",
     "output_type": "stream",
     "text": [
      "Summary Statistics for San Mateo:\n",
      "       Employment        Price\n",
      "count      159.00       165.00\n",
      "mean    37,538.50 1,141,353.93\n",
      "std     13,902.36   334,254.48\n",
      "min     17,062.00   575,510.00\n",
      "25%     25,587.50   846,105.00\n",
      "50%     35,766.00 1,206,743.00\n",
      "75%     50,399.50 1,434,189.00\n",
      "max     63,590.00 1,677,950.00\n",
      "\\begin{tabular}{lrr}\n",
      "\\toprule\n",
      " & Employment & Price \\\\\n",
      "\\midrule\n",
      "count & 159.00 & 165.00 \\\\\n",
      "mean & 37538.50 & 1141353.93 \\\\\n",
      "std & 13902.36 & 334254.48 \\\\\n",
      "min & 17062.00 & 575510.00 \\\\\n",
      "25% & 25587.50 & 846105.00 \\\\\n",
      "50% & 35766.00 & 1206743.00 \\\\\n",
      "75% & 50399.50 & 1434189.00 \\\\\n",
      "max & 63590.00 & 1677950.00 \\\\\n",
      "\\bottomrule\n",
      "\\end{tabular}\n",
      "\n"
     ]
    }
   ],
   "source": [
    "pd.set_option(\"display.float_format\", \"{:,.2f}\".format)\n",
    "sm = pd.concat([sm_employment, sm_real_estate], axis=0)\n",
    "print(\"Summary Statistics for San Mateo:\")\n",
    "print(sm.describe())\n",
    "\n",
    "latex_table = sm.describe().to_latex(index=True, float_format=\"%.2f\")\n",
    "\n",
    "# Save the LaTeX table to a file\n",
    "with open(\"summary_statistics.tex\", \"w\") as f:\n",
    "    f.write(latex_table)\n",
    "\n",
    "# Print LaTeX table\n",
    "print(latex_table)"
   ]
  },
  {
   "cell_type": "code",
   "execution_count": 16,
   "metadata": {},
   "outputs": [
    {
     "name": "stdout",
     "output_type": "stream",
     "text": [
      "Summary Statistics for Sacramento:\n",
      "       Employment      Price\n",
      "count      159.00     165.00\n",
      "mean     8,270.77 352,200.19\n",
      "std      1,358.95 119,856.54\n",
      "min      6,073.00 170,643.00\n",
      "25%      6,942.50 263,082.00\n",
      "50%      8,247.00 349,515.00\n",
      "75%      8,552.00 460,464.00\n",
      "max     11,011.00 556,975.00\n",
      "\\begin{tabular}{lrr}\n",
      "\\toprule\n",
      " & Employment & Price \\\\\n",
      "\\midrule\n",
      "count & 159.00 & 165.00 \\\\\n",
      "mean & 8270.77 & 352200.19 \\\\\n",
      "std & 1358.95 & 119856.54 \\\\\n",
      "min & 6073.00 & 170643.00 \\\\\n",
      "25% & 6942.50 & 263082.00 \\\\\n",
      "50% & 8247.00 & 349515.00 \\\\\n",
      "75% & 8552.00 & 460464.00 \\\\\n",
      "max & 11011.00 & 556975.00 \\\\\n",
      "\\bottomrule\n",
      "\\end{tabular}\n",
      "\n"
     ]
    },
    {
     "name": "stderr",
     "output_type": "stream",
     "text": [
      "/var/folders/4r/8l8ztg457hq357p0kylhwhfw0000gn/T/ipykernel_53888/305327351.py:5: FutureWarning: Downcasting object dtype arrays on .fillna, .ffill, .bfill is deprecated and will change in a future version. Call result.infer_objects(copy=False) instead. To opt-in to the future behavior, set `pd.set_option('future.no_silent_downcasting', True)`\n",
      "  sac_employment.fillna(sac_employment[\"Employment\"].mean(), inplace=True)\n"
     ]
    }
   ],
   "source": [
    "pd.set_option(\"display.float_format\", \"{:,.2f}\".format)\n",
    "sac_employment.replace(0, pd.NA, inplace=True)\n",
    "\n",
    "# Fill NaN values with the mean of each column\n",
    "sac_employment.fillna(sac_employment[\"Employment\"].mean(), inplace=True)\n",
    "sac = pd.concat([sac_employment, sac_real_estate], axis=0)\n",
    "\n",
    "\n",
    "print(\"Summary Statistics for Sacramento:\")\n",
    "print(sac.describe())\n",
    "latex_table = sac.describe().to_latex(index=True, float_format=\"%.2f\")\n",
    "\n",
    "# Save the LaTeX table to a file\n",
    "with open(\"summary_statistics.tex\", \"w\") as f:\n",
    "    f.write(latex_table)\n",
    "\n",
    "# Print LaTeX table\n",
    "print(latex_table)"
   ]
  },
  {
   "cell_type": "code",
   "execution_count": 17,
   "metadata": {},
   "outputs": [
    {
     "name": "stdout",
     "output_type": "stream",
     "text": [
      "Summary Statistics for Fresno:\n",
      "       Employment      Price\n",
      "count      159.00     165.00\n",
      "mean     3,439.75 252,683.59\n",
      "std        379.09  81,946.61\n",
      "min      2,457.00 138,997.00\n",
      "25%      3,189.50 189,172.00\n",
      "50%      3,501.00 239,554.00\n",
      "75%      3,756.50 316,048.00\n",
      "max      3,982.00 395,622.00\n",
      "\\begin{tabular}{lrr}\n",
      "\\toprule\n",
      " & Employment & Price \\\\\n",
      "\\midrule\n",
      "count & 159.00 & 165.00 \\\\\n",
      "mean & 3439.75 & 252683.59 \\\\\n",
      "std & 379.09 & 81946.61 \\\\\n",
      "min & 2457.00 & 138997.00 \\\\\n",
      "25% & 3189.50 & 189172.00 \\\\\n",
      "50% & 3501.00 & 239554.00 \\\\\n",
      "75% & 3756.50 & 316048.00 \\\\\n",
      "max & 3982.00 & 395622.00 \\\\\n",
      "\\bottomrule\n",
      "\\end{tabular}\n",
      "\n"
     ]
    },
    {
     "name": "stderr",
     "output_type": "stream",
     "text": [
      "/var/folders/4r/8l8ztg457hq357p0kylhwhfw0000gn/T/ipykernel_53888/520887257.py:5: FutureWarning: Downcasting object dtype arrays on .fillna, .ffill, .bfill is deprecated and will change in a future version. Call result.infer_objects(copy=False) instead. To opt-in to the future behavior, set `pd.set_option('future.no_silent_downcasting', True)`\n",
      "  fresno_employment.fillna(fresno_employment[\"Employment\"].mean(), inplace=True)\n"
     ]
    }
   ],
   "source": [
    "pd.set_option(\"display.float_format\", \"{:,.2f}\".format)\n",
    "fresno_employment.replace(0, pd.NA, inplace=True)\n",
    "\n",
    "# Fill NaN values with the mean of each column\n",
    "fresno_employment.fillna(fresno_employment[\"Employment\"].mean(), inplace=True)\n",
    "fresno = pd.concat([fresno_employment, fresno_real_estate], axis=0)\n",
    "\n",
    "print(\"Summary Statistics for Fresno:\")\n",
    "print(fresno.describe())\n",
    "latex_table = fresno.describe().to_latex(index=True, float_format=\"%.2f\")\n",
    "\n",
    "# Save the LaTeX table to a file\n",
    "with open(\"summary_statistics.tex\", \"w\") as f:\n",
    "    f.write(latex_table)\n",
    "\n",
    "# Print LaTeX table\n",
    "print(latex_table)"
   ]
  }
 ],
 "metadata": {
  "kernelspec": {
   "display_name": "Python 3",
   "language": "python",
   "name": "python3"
  },
  "language_info": {
   "codemirror_mode": {
    "name": "ipython",
    "version": 3
   },
   "file_extension": ".py",
   "mimetype": "text/x-python",
   "name": "python",
   "nbconvert_exporter": "python",
   "pygments_lexer": "ipython3",
   "version": "3.9.6"
  }
 },
 "nbformat": 4,
 "nbformat_minor": 2
}
