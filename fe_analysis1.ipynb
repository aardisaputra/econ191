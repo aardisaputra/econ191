{
 "cells": [
  {
   "cell_type": "code",
   "execution_count": 1,
   "metadata": {},
   "outputs": [],
   "source": [
    "import pandas as pd\n",
    "import seaborn as sns\n",
    "import matplotlib.pyplot as plt"
   ]
  },
  {
   "cell_type": "code",
   "execution_count": null,
   "metadata": {},
   "outputs": [
    {
     "name": "stdout",
     "output_type": "stream",
     "text": [
      "                          PanelOLS Estimation Summary                           \n",
      "================================================================================\n",
      "Dep. Variable:                  Price   R-squared:                        0.9986\n",
      "Estimator:                   PanelOLS   R-squared (Between):              0.0000\n",
      "No. Observations:                 159   R-squared (Within):               0.9986\n",
      "Date:                Sun, Dec 08 2024   R-squared (Overall):              0.9986\n",
      "Time:                        13:55:57   Log-likelihood                   -1721.4\n",
      "Cov. Estimator:            Unadjusted                                           \n",
      "                                        F-statistic:                      1424.3\n",
      "Entities:                           1   P-value                           0.0000\n",
      "Avg Obs:                       159.00   Distribution:                  F(53,105)\n",
      "Min Obs:                       159.00                                           \n",
      "Max Obs:                       159.00   F-statistic (robust):             1424.3\n",
      "                                        P-value                           0.0000\n",
      "Time periods:                     159   Distribution:                  F(53,105)\n",
      "Avg Obs:                       1.0000                                           \n",
      "Min Obs:                       1.0000                                           \n",
      "Max Obs:                       1.0000                                           \n",
      "                                                                                \n",
      "                             Parameter Estimates                              \n",
      "==============================================================================\n",
      "            Parameter  Std. Err.     T-stat    P-value    Lower CI    Upper CI\n",
      "------------------------------------------------------------------------------\n",
      "Employment     3.1236     1.5989     1.9536     0.0534     -0.0467      6.2939\n",
      "YQ_2011Q2  -1.256e+04  1.244e+04    -1.0097     0.3150  -3.724e+04   1.211e+04\n",
      "YQ_2011Q3   -2.24e+04  1.346e+04    -1.6647     0.0990  -4.908e+04      4280.4\n",
      "YQ_2011Q4  -3.177e+04  1.351e+04    -2.3508     0.0206  -5.856e+04     -4972.4\n",
      "YQ_2012Q1  -2.669e+04  1.291e+04    -2.0676     0.0411  -5.228e+04     -1093.9\n",
      "YQ_2012Q2  -1.347e+04  1.329e+04    -1.0133     0.3132  -3.983e+04   1.289e+04\n",
      "YQ_2012Q3   1.381e+04  1.417e+04     0.9747     0.3320  -1.428e+04   4.189e+04\n",
      "YQ_2012Q4   6.086e+04   1.42e+04     4.2845     0.0000   3.269e+04   8.902e+04\n",
      "YQ_2013Q1   7.666e+04  1.993e+04     3.8459     0.0002   3.713e+04   1.162e+05\n",
      "YQ_2013Q2   8.535e+04   2.12e+04     4.0267     0.0001   4.332e+04   1.274e+05\n",
      "YQ_2013Q3   1.079e+05  2.426e+04     4.4493     0.0000   5.983e+04    1.56e+05\n",
      "YQ_2013Q4   1.394e+05  2.541e+04     5.4865     0.0000   8.905e+04   1.898e+05\n",
      "YQ_2014Q1   1.575e+05  2.735e+04     5.7582     0.0000   1.033e+05   2.117e+05\n",
      "YQ_2014Q2    1.56e+05  3.084e+04     5.0580     0.0000   9.484e+04   2.171e+05\n",
      "YQ_2014Q3   1.592e+05  3.629e+04     4.3883     0.0000   8.729e+04   2.312e+05\n",
      "YQ_2014Q4    1.93e+05  3.725e+04     5.1819     0.0000   1.192e+05   2.669e+05\n",
      "YQ_2015Q1   2.212e+05  4.081e+04     5.4199     0.0000   1.403e+05   3.021e+05\n",
      "YQ_2015Q2   2.277e+05  4.412e+04     5.1611     0.0000   1.402e+05   3.152e+05\n",
      "YQ_2015Q3   2.449e+05  4.909e+04     4.9887     0.0000   1.476e+05   3.422e+05\n",
      "YQ_2015Q4   2.859e+05  5.006e+04     5.7109     0.0000   1.866e+05   3.852e+05\n",
      "YQ_2016Q1    3.33e+05   4.11e+04     8.1029     0.0000   2.515e+05   4.145e+05\n",
      "YQ_2016Q2   3.278e+05  4.335e+04     7.5625     0.0000   2.419e+05   4.138e+05\n",
      "YQ_2016Q3   2.925e+05  4.797e+04     6.0971     0.0000   1.974e+05   3.876e+05\n",
      "YQ_2016Q4   2.676e+05   4.96e+04     5.3958     0.0000   1.693e+05    3.66e+05\n",
      "YQ_2017Q1   2.782e+05  5.516e+04     5.0440     0.0000   1.688e+05   3.876e+05\n",
      "YQ_2017Q2   3.113e+05  5.854e+04     5.3174     0.0000   1.952e+05   4.273e+05\n",
      "YQ_2017Q3    3.05e+05  6.596e+04     4.6241     0.0000   1.742e+05   4.358e+05\n",
      "YQ_2017Q4   3.105e+05  6.504e+04     4.7736     0.0000   1.815e+05   4.394e+05\n",
      "YQ_2018Q1   3.759e+05  6.537e+04     5.7511     0.0000   2.463e+05   5.056e+05\n",
      "YQ_2018Q2   4.906e+05  6.957e+04     7.0523     0.0000   3.527e+05   6.286e+05\n",
      "YQ_2018Q3   5.436e+05  7.602e+04     7.1506     0.0000   3.929e+05   6.943e+05\n",
      "YQ_2018Q4   5.677e+05  7.713e+04     7.3607     0.0000   4.148e+05   7.207e+05\n",
      "YQ_2019Q1   5.365e+05   7.81e+04     6.8696     0.0000   3.817e+05   6.914e+05\n",
      "YQ_2019Q2     4.7e+05  8.315e+04     5.6527     0.0000   3.052e+05   6.349e+05\n",
      "YQ_2019Q3   4.325e+05  9.078e+04     4.7649     0.0000   2.525e+05   6.125e+05\n",
      "YQ_2019Q4   4.389e+05  9.133e+04     4.8058     0.0000   2.578e+05     6.2e+05\n",
      "YQ_2020Q1   4.565e+05  9.334e+04     4.8909     0.0000   2.714e+05   6.416e+05\n",
      "YQ_2020Q2   4.646e+05  9.288e+04     5.0028     0.0000   2.805e+05   6.488e+05\n",
      "YQ_2020Q3   4.517e+05  9.382e+04     4.8147     0.0000   2.657e+05   6.377e+05\n",
      "YQ_2020Q4   5.098e+05  9.347e+04     5.4543     0.0000   3.245e+05   6.951e+05\n",
      "YQ_2021Q1   5.639e+05   9.29e+04     6.0704     0.0000   3.797e+05   7.481e+05\n",
      "YQ_2021Q2    6.05e+05  9.262e+04     6.5326     0.0000   4.214e+05   7.887e+05\n",
      "YQ_2021Q3   6.517e+05  9.469e+04     6.8821     0.0000   4.639e+05   8.394e+05\n",
      "YQ_2021Q4   6.919e+05  9.476e+04     7.3015     0.0000    5.04e+05   8.798e+05\n",
      "YQ_2022Q1   7.998e+05  8.799e+04     9.0901     0.0000   6.254e+05   9.743e+05\n",
      "YQ_2022Q2   8.813e+05  9.276e+04     9.5013     0.0000   6.974e+05   1.065e+06\n",
      "YQ_2022Q3   8.461e+05  8.774e+04     9.6429     0.0000   6.721e+05    1.02e+06\n",
      "YQ_2022Q4   7.833e+05  8.353e+04     9.3780     0.0000   6.177e+05   9.489e+05\n",
      "YQ_2023Q1    7.53e+05  8.062e+04     9.3399     0.0000   5.932e+05   9.129e+05\n",
      "YQ_2023Q2   7.323e+05   7.71e+04     9.4978     0.0000   5.794e+05   8.852e+05\n",
      "YQ_2023Q3   7.822e+05  7.812e+04     10.012     0.0000   6.273e+05   9.371e+05\n",
      "YQ_2023Q4   8.538e+05   7.67e+04     11.133     0.0000   7.018e+05   1.006e+06\n",
      "YQ_2024Q1   8.701e+05  7.472e+04     11.645     0.0000    7.22e+05   1.018e+06\n",
      "constant    3.552e+05   7.51e+04     4.7292     0.0000   2.063e+05   5.041e+05\n",
      "==============================================================================\n",
      "\n",
      "\n"
     ]
    }
   ],
   "source": [
    "sc_employment = pd.read_csv(\n",
    "    \"./data/processed_employment/Santa_Clara_County,_California.csv\"\n",
    ")\n",
    "sc_real_estate = pd.read_csv(\"./data/processed_zillow/Santa_Clara_County.csv\")\n",
    "\n",
    "data = sc_real_estate\n",
    "data = pd.concat([data, sc_employment], axis=1)\n",
    "data = data.dropna(subset=[\"Year-Month\"])\n",
    "data[\"county\"] = \"Santa Clara\"\n",
    "data[\"constant\"] = 1\n",
    "data[\"Date\"] = pd.to_datetime(data[\"Date\"])\n",
    "data[\"Year\"] = data[\"Date\"].dt.year\n",
    "data[\"Quarter\"] = data[\"Date\"].dt.quarter\n",
    "data[\"Year_Quarter\"] = data[\"Year\"].astype(str) + \"Q\" + data[\"Quarter\"].astype(str)\n",
    "year_quarter_dummies = pd.get_dummies(\n",
    "    data[\"Year_Quarter\"], prefix=\"YQ\", drop_first=True\n",
    ")\n",
    "data = pd.concat([data, year_quarter_dummies], axis=1)\n",
    "\n",
    "data = data.set_index([\"county\", \"Date\"])\n",
    "\n",
    "mod = PanelOLS(data.Price, data[[\"Employment\"] + [\"constant\"]])\n",
    "# mod = PanelOLS(\n",
    "#     data.Price,\n",
    "#     data[[\"Employment\"] + year_quarter_dummies.columns.tolist() + [\"constant\"]],\n",
    "# )\n",
    "res = mod.fit()\n",
    "print(res)"
   ]
  },
  {
   "cell_type": "code",
   "execution_count": null,
   "metadata": {},
   "outputs": [],
   "source": [
    "# Attempt to format table\n",
    "\n",
    "with open(\"regression_results.tex\", \"w\") as f:\n",
    "    f.write(res.summary.as_latex())\n",
    "\n"
   ]
  },
  {
   "cell_type": "code",
   "execution_count": 5,
   "metadata": {},
   "outputs": [],
   "source": [
    "from stargazer.stargazer import Stargazer\n",
    "\n",
    "# Create Stargazer object\n",
    "stargazer = Stargazer([res])\n",
    "\n",
    "# Export LaTeX table\n",
    "with open(\"regression_results.tex\", \"w\") as f:\n",
    "    f.write(stargazer.render_latex())\n"
   ]
  },
  {
   "cell_type": "code",
   "execution_count": 33,
   "metadata": {},
   "outputs": [
    {
     "name": "stdout",
     "output_type": "stream",
     "text": [
      "Index(['Employment', 'YQ_2011Q2', 'YQ_2011Q3', 'YQ_2011Q4', 'YQ_2012Q1'], dtype='object')\n"
     ]
    },
    {
     "ename": "KeyError",
     "evalue": "0",
     "output_type": "error",
     "traceback": [
      "\u001b[0;31m---------------------------------------------------------------------------\u001b[0m",
      "\u001b[0;31mKeyError\u001b[0m                                  Traceback (most recent call last)",
      "File \u001b[0;32m~/Library/Python/3.9/lib/python/site-packages/pandas/core/indexes/base.py:3802\u001b[0m, in \u001b[0;36mIndex.get_loc\u001b[0;34m(self, key)\u001b[0m\n\u001b[1;32m   3801\u001b[0m \u001b[38;5;28;01mtry\u001b[39;00m:\n\u001b[0;32m-> 3802\u001b[0m     \u001b[38;5;28;01mreturn\u001b[39;00m \u001b[38;5;28;43mself\u001b[39;49m\u001b[38;5;241;43m.\u001b[39;49m\u001b[43m_engine\u001b[49m\u001b[38;5;241;43m.\u001b[39;49m\u001b[43mget_loc\u001b[49m\u001b[43m(\u001b[49m\u001b[43mcasted_key\u001b[49m\u001b[43m)\u001b[49m\n\u001b[1;32m   3803\u001b[0m \u001b[38;5;28;01mexcept\u001b[39;00m \u001b[38;5;167;01mKeyError\u001b[39;00m \u001b[38;5;28;01mas\u001b[39;00m err:\n",
      "File \u001b[0;32mindex.pyx:153\u001b[0m, in \u001b[0;36mpandas._libs.index.IndexEngine.get_loc\u001b[0;34m()\u001b[0m\n",
      "File \u001b[0;32mindex.pyx:182\u001b[0m, in \u001b[0;36mpandas._libs.index.IndexEngine.get_loc\u001b[0;34m()\u001b[0m\n",
      "File \u001b[0;32mpandas/_libs/hashtable_class_helper.pxi:7081\u001b[0m, in \u001b[0;36mpandas._libs.hashtable.PyObjectHashTable.get_item\u001b[0;34m()\u001b[0m\n",
      "File \u001b[0;32mpandas/_libs/hashtable_class_helper.pxi:7089\u001b[0m, in \u001b[0;36mpandas._libs.hashtable.PyObjectHashTable.get_item\u001b[0;34m()\u001b[0m\n",
      "\u001b[0;31mKeyError\u001b[0m: 0",
      "\nThe above exception was the direct cause of the following exception:\n",
      "\u001b[0;31mKeyError\u001b[0m                                  Traceback (most recent call last)",
      "Cell \u001b[0;32mIn[33], line 12\u001b[0m\n\u001b[1;32m     10\u001b[0m filtered_results[\u001b[38;5;124m\"\u001b[39m\u001b[38;5;124mt\u001b[39m\u001b[38;5;124m\"\u001b[39m] \u001b[38;5;241m=\u001b[39m res\u001b[38;5;241m.\u001b[39mtstats[selected_params]\n\u001b[1;32m     11\u001b[0m filtered_results[\u001b[38;5;124m\"\u001b[39m\u001b[38;5;124mP>|t|\u001b[39m\u001b[38;5;124m\"\u001b[39m] \u001b[38;5;241m=\u001b[39m res\u001b[38;5;241m.\u001b[39mpvalues[selected_params]\n\u001b[0;32m---> 12\u001b[0m filtered_results[\u001b[38;5;124m\"\u001b[39m\u001b[38;5;124m[0.025\u001b[39m\u001b[38;5;124m\"\u001b[39m] \u001b[38;5;241m=\u001b[39m \u001b[43mres\u001b[49m\u001b[38;5;241;43m.\u001b[39;49m\u001b[43mconf_int\u001b[49m\u001b[43m(\u001b[49m\u001b[43m)\u001b[49m\u001b[38;5;241;43m.\u001b[39;49m\u001b[43mloc\u001b[49m\u001b[43m[\u001b[49m\u001b[43mselected_params\u001b[49m\u001b[43m,\u001b[49m\u001b[43m \u001b[49m\u001b[38;5;241;43m0\u001b[39;49m\u001b[43m]\u001b[49m\n\u001b[1;32m     13\u001b[0m filtered_results[\u001b[38;5;124m\"\u001b[39m\u001b[38;5;124m0.975]\u001b[39m\u001b[38;5;124m\"\u001b[39m] \u001b[38;5;241m=\u001b[39m res\u001b[38;5;241m.\u001b[39mconf_int()\u001b[38;5;241m.\u001b[39mloc[selected_params, \u001b[38;5;241m1\u001b[39m]\n\u001b[1;32m     15\u001b[0m \u001b[38;5;66;03m# Display the filtered results in a summary table format\u001b[39;00m\n",
      "File \u001b[0;32m~/Library/Python/3.9/lib/python/site-packages/pandas/core/indexing.py:1185\u001b[0m, in \u001b[0;36m_LocationIndexer.__getitem__\u001b[0;34m(self, key)\u001b[0m\n\u001b[1;32m   1183\u001b[0m     \u001b[38;5;28;01mif\u001b[39;00m \u001b[38;5;28mself\u001b[39m\u001b[38;5;241m.\u001b[39m_is_scalar_access(key):\n\u001b[1;32m   1184\u001b[0m         \u001b[38;5;28;01mreturn\u001b[39;00m \u001b[38;5;28mself\u001b[39m\u001b[38;5;241m.\u001b[39mobj\u001b[38;5;241m.\u001b[39m_get_value(\u001b[38;5;241m*\u001b[39mkey, takeable\u001b[38;5;241m=\u001b[39m\u001b[38;5;28mself\u001b[39m\u001b[38;5;241m.\u001b[39m_takeable)\n\u001b[0;32m-> 1185\u001b[0m     \u001b[38;5;28;01mreturn\u001b[39;00m \u001b[38;5;28;43mself\u001b[39;49m\u001b[38;5;241;43m.\u001b[39;49m\u001b[43m_getitem_tuple\u001b[49m\u001b[43m(\u001b[49m\u001b[43mkey\u001b[49m\u001b[43m)\u001b[49m\n\u001b[1;32m   1186\u001b[0m \u001b[38;5;28;01melse\u001b[39;00m:\n\u001b[1;32m   1187\u001b[0m     \u001b[38;5;66;03m# we by definition only have the 0th axis\u001b[39;00m\n\u001b[1;32m   1188\u001b[0m     axis \u001b[38;5;241m=\u001b[39m \u001b[38;5;28mself\u001b[39m\u001b[38;5;241m.\u001b[39maxis \u001b[38;5;129;01mor\u001b[39;00m \u001b[38;5;241m0\u001b[39m\n",
      "File \u001b[0;32m~/Library/Python/3.9/lib/python/site-packages/pandas/core/indexing.py:1369\u001b[0m, in \u001b[0;36m_LocIndexer._getitem_tuple\u001b[0;34m(self, tup)\u001b[0m\n\u001b[1;32m   1367\u001b[0m \u001b[38;5;28;01mwith\u001b[39;00m suppress(IndexingError):\n\u001b[1;32m   1368\u001b[0m     tup \u001b[38;5;241m=\u001b[39m \u001b[38;5;28mself\u001b[39m\u001b[38;5;241m.\u001b[39m_expand_ellipsis(tup)\n\u001b[0;32m-> 1369\u001b[0m     \u001b[38;5;28;01mreturn\u001b[39;00m \u001b[38;5;28;43mself\u001b[39;49m\u001b[38;5;241;43m.\u001b[39;49m\u001b[43m_getitem_lowerdim\u001b[49m\u001b[43m(\u001b[49m\u001b[43mtup\u001b[49m\u001b[43m)\u001b[49m\n\u001b[1;32m   1371\u001b[0m \u001b[38;5;66;03m# no multi-index, so validate all of the indexers\u001b[39;00m\n\u001b[1;32m   1372\u001b[0m tup \u001b[38;5;241m=\u001b[39m \u001b[38;5;28mself\u001b[39m\u001b[38;5;241m.\u001b[39m_validate_tuple_indexer(tup)\n",
      "File \u001b[0;32m~/Library/Python/3.9/lib/python/site-packages/pandas/core/indexing.py:1066\u001b[0m, in \u001b[0;36m_LocationIndexer._getitem_lowerdim\u001b[0;34m(self, tup)\u001b[0m\n\u001b[1;32m   1062\u001b[0m \u001b[38;5;28;01mfor\u001b[39;00m i, key \u001b[38;5;129;01min\u001b[39;00m \u001b[38;5;28menumerate\u001b[39m(tup):\n\u001b[1;32m   1063\u001b[0m     \u001b[38;5;28;01mif\u001b[39;00m is_label_like(key):\n\u001b[1;32m   1064\u001b[0m         \u001b[38;5;66;03m# We don't need to check for tuples here because those are\u001b[39;00m\n\u001b[1;32m   1065\u001b[0m         \u001b[38;5;66;03m#  caught by the _is_nested_tuple_indexer check above.\u001b[39;00m\n\u001b[0;32m-> 1066\u001b[0m         section \u001b[38;5;241m=\u001b[39m \u001b[38;5;28;43mself\u001b[39;49m\u001b[38;5;241;43m.\u001b[39;49m\u001b[43m_getitem_axis\u001b[49m\u001b[43m(\u001b[49m\u001b[43mkey\u001b[49m\u001b[43m,\u001b[49m\u001b[43m \u001b[49m\u001b[43maxis\u001b[49m\u001b[38;5;241;43m=\u001b[39;49m\u001b[43mi\u001b[49m\u001b[43m)\u001b[49m\n\u001b[1;32m   1068\u001b[0m         \u001b[38;5;66;03m# We should never have a scalar section here, because\u001b[39;00m\n\u001b[1;32m   1069\u001b[0m         \u001b[38;5;66;03m#  _getitem_lowerdim is only called after a check for\u001b[39;00m\n\u001b[1;32m   1070\u001b[0m         \u001b[38;5;66;03m#  is_scalar_access, which that would be.\u001b[39;00m\n\u001b[1;32m   1071\u001b[0m         \u001b[38;5;28;01mif\u001b[39;00m section\u001b[38;5;241m.\u001b[39mndim \u001b[38;5;241m==\u001b[39m \u001b[38;5;28mself\u001b[39m\u001b[38;5;241m.\u001b[39mndim:\n\u001b[1;32m   1072\u001b[0m             \u001b[38;5;66;03m# we're in the middle of slicing through a MultiIndex\u001b[39;00m\n\u001b[1;32m   1073\u001b[0m             \u001b[38;5;66;03m# revise the key wrt to `section` by inserting an _NS\u001b[39;00m\n",
      "File \u001b[0;32m~/Library/Python/3.9/lib/python/site-packages/pandas/core/indexing.py:1432\u001b[0m, in \u001b[0;36m_LocIndexer._getitem_axis\u001b[0;34m(self, key, axis)\u001b[0m\n\u001b[1;32m   1430\u001b[0m \u001b[38;5;66;03m# fall thru to straight lookup\u001b[39;00m\n\u001b[1;32m   1431\u001b[0m \u001b[38;5;28mself\u001b[39m\u001b[38;5;241m.\u001b[39m_validate_key(key, axis)\n\u001b[0;32m-> 1432\u001b[0m \u001b[38;5;28;01mreturn\u001b[39;00m \u001b[38;5;28;43mself\u001b[39;49m\u001b[38;5;241;43m.\u001b[39;49m\u001b[43m_get_label\u001b[49m\u001b[43m(\u001b[49m\u001b[43mkey\u001b[49m\u001b[43m,\u001b[49m\u001b[43m \u001b[49m\u001b[43maxis\u001b[49m\u001b[38;5;241;43m=\u001b[39;49m\u001b[43maxis\u001b[49m\u001b[43m)\u001b[49m\n",
      "File \u001b[0;32m~/Library/Python/3.9/lib/python/site-packages/pandas/core/indexing.py:1382\u001b[0m, in \u001b[0;36m_LocIndexer._get_label\u001b[0;34m(self, label, axis)\u001b[0m\n\u001b[1;32m   1380\u001b[0m \u001b[38;5;28;01mdef\u001b[39;00m \u001b[38;5;21m_get_label\u001b[39m(\u001b[38;5;28mself\u001b[39m, label, axis: AxisInt):\n\u001b[1;32m   1381\u001b[0m     \u001b[38;5;66;03m# GH#5567 this will fail if the label is not present in the axis.\u001b[39;00m\n\u001b[0;32m-> 1382\u001b[0m     \u001b[38;5;28;01mreturn\u001b[39;00m \u001b[38;5;28;43mself\u001b[39;49m\u001b[38;5;241;43m.\u001b[39;49m\u001b[43mobj\u001b[49m\u001b[38;5;241;43m.\u001b[39;49m\u001b[43mxs\u001b[49m\u001b[43m(\u001b[49m\u001b[43mlabel\u001b[49m\u001b[43m,\u001b[49m\u001b[43m \u001b[49m\u001b[43maxis\u001b[49m\u001b[38;5;241;43m=\u001b[39;49m\u001b[43maxis\u001b[49m\u001b[43m)\u001b[49m\n",
      "File \u001b[0;32m~/Library/Python/3.9/lib/python/site-packages/pandas/core/generic.py:4281\u001b[0m, in \u001b[0;36mNDFrame.xs\u001b[0;34m(self, key, axis, level, drop_level)\u001b[0m\n\u001b[1;32m   4279\u001b[0m \u001b[38;5;28;01mif\u001b[39;00m axis \u001b[38;5;241m==\u001b[39m \u001b[38;5;241m1\u001b[39m:\n\u001b[1;32m   4280\u001b[0m     \u001b[38;5;28;01mif\u001b[39;00m drop_level:\n\u001b[0;32m-> 4281\u001b[0m         \u001b[38;5;28;01mreturn\u001b[39;00m \u001b[38;5;28;43mself\u001b[39;49m\u001b[43m[\u001b[49m\u001b[43mkey\u001b[49m\u001b[43m]\u001b[49m\n\u001b[1;32m   4282\u001b[0m     index \u001b[38;5;241m=\u001b[39m \u001b[38;5;28mself\u001b[39m\u001b[38;5;241m.\u001b[39mcolumns\n\u001b[1;32m   4283\u001b[0m \u001b[38;5;28;01melse\u001b[39;00m:\n",
      "File \u001b[0;32m~/Library/Python/3.9/lib/python/site-packages/pandas/core/frame.py:4090\u001b[0m, in \u001b[0;36mDataFrame.__getitem__\u001b[0;34m(self, key)\u001b[0m\n\u001b[1;32m   4088\u001b[0m \u001b[38;5;28;01mif\u001b[39;00m \u001b[38;5;28mself\u001b[39m\u001b[38;5;241m.\u001b[39mcolumns\u001b[38;5;241m.\u001b[39mnlevels \u001b[38;5;241m>\u001b[39m \u001b[38;5;241m1\u001b[39m:\n\u001b[1;32m   4089\u001b[0m     \u001b[38;5;28;01mreturn\u001b[39;00m \u001b[38;5;28mself\u001b[39m\u001b[38;5;241m.\u001b[39m_getitem_multilevel(key)\n\u001b[0;32m-> 4090\u001b[0m indexer \u001b[38;5;241m=\u001b[39m \u001b[38;5;28;43mself\u001b[39;49m\u001b[38;5;241;43m.\u001b[39;49m\u001b[43mcolumns\u001b[49m\u001b[38;5;241;43m.\u001b[39;49m\u001b[43mget_loc\u001b[49m\u001b[43m(\u001b[49m\u001b[43mkey\u001b[49m\u001b[43m)\u001b[49m\n\u001b[1;32m   4091\u001b[0m \u001b[38;5;28;01mif\u001b[39;00m is_integer(indexer):\n\u001b[1;32m   4092\u001b[0m     indexer \u001b[38;5;241m=\u001b[39m [indexer]\n",
      "File \u001b[0;32m~/Library/Python/3.9/lib/python/site-packages/pandas/core/indexes/base.py:3809\u001b[0m, in \u001b[0;36mIndex.get_loc\u001b[0;34m(self, key)\u001b[0m\n\u001b[1;32m   3804\u001b[0m     \u001b[38;5;28;01mif\u001b[39;00m \u001b[38;5;28misinstance\u001b[39m(casted_key, \u001b[38;5;28mslice\u001b[39m) \u001b[38;5;129;01mor\u001b[39;00m (\n\u001b[1;32m   3805\u001b[0m         \u001b[38;5;28misinstance\u001b[39m(casted_key, abc\u001b[38;5;241m.\u001b[39mIterable)\n\u001b[1;32m   3806\u001b[0m         \u001b[38;5;129;01mand\u001b[39;00m \u001b[38;5;28many\u001b[39m(\u001b[38;5;28misinstance\u001b[39m(x, \u001b[38;5;28mslice\u001b[39m) \u001b[38;5;28;01mfor\u001b[39;00m x \u001b[38;5;129;01min\u001b[39;00m casted_key)\n\u001b[1;32m   3807\u001b[0m     ):\n\u001b[1;32m   3808\u001b[0m         \u001b[38;5;28;01mraise\u001b[39;00m InvalidIndexError(key)\n\u001b[0;32m-> 3809\u001b[0m     \u001b[38;5;28;01mraise\u001b[39;00m \u001b[38;5;167;01mKeyError\u001b[39;00m(key) \u001b[38;5;28;01mfrom\u001b[39;00m \u001b[38;5;21;01merr\u001b[39;00m\n\u001b[1;32m   3810\u001b[0m \u001b[38;5;28;01mexcept\u001b[39;00m \u001b[38;5;167;01mTypeError\u001b[39;00m:\n\u001b[1;32m   3811\u001b[0m     \u001b[38;5;66;03m# If we have a listlike key, _check_indexing_error will raise\u001b[39;00m\n\u001b[1;32m   3812\u001b[0m     \u001b[38;5;66;03m#  InvalidIndexError. Otherwise we fall through and re-raise\u001b[39;00m\n\u001b[1;32m   3813\u001b[0m     \u001b[38;5;66;03m#  the TypeError.\u001b[39;00m\n\u001b[1;32m   3814\u001b[0m     \u001b[38;5;28mself\u001b[39m\u001b[38;5;241m.\u001b[39m_check_indexing_error(key)\n",
      "\u001b[0;31mKeyError\u001b[0m: 0"
     ]
    }
   ],
   "source": [
    "from statsmodels.iolib.summary2 import summary_col\n",
    "\n",
    "# Choose specific parameters to display, e.g., the first five\n",
    "selected_params = res.params.head(5).index\n",
    "print(selected_params)\n",
    "\n",
    "# Create a new DataFrame with just the selected parameters\n",
    "filtered_results = res.params[selected_params].to_frame(\"coef\")\n",
    "filtered_results[\"std err\"] = res.std_errors[selected_params]\n",
    "filtered_results[\"t\"] = res.tstats[selected_params]\n",
    "filtered_results[\"P>|t|\"] = res.pvalues[selected_params]\n",
    "filtered_results[\"[0.025\"] = res.conf_int().loc[selected_params, 0]\n",
    "filtered_results[\"0.975]\"] = res.conf_int().loc[selected_params, 1]\n",
    "\n",
    "# Display the filtered results in a summary table format\n",
    "print(summary_col([filtered_results], stars=True, float_format=\"%0.4f\"))"
   ]
  }
 ],
 "metadata": {
  "kernelspec": {
   "display_name": "Python 3",
   "language": "python",
   "name": "python3"
  },
  "language_info": {
   "codemirror_mode": {
    "name": "ipython",
    "version": 3
   },
   "file_extension": ".py",
   "mimetype": "text/x-python",
   "name": "python",
   "nbconvert_exporter": "python",
   "pygments_lexer": "ipython3",
   "version": "3.11.7"
  }
 },
 "nbformat": 4,
 "nbformat_minor": 2
}
